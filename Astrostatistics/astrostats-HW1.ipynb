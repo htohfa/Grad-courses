{
 "cells": [
  {
   "cell_type": "code",
   "execution_count": 1,
   "metadata": {},
   "outputs": [],
   "source": [
    "hw_done = True   ## change this to True to mark your homework as done."
   ]
  },
  {
   "cell_type": "markdown",
   "metadata": {},
   "source": [
    "### Astrostatistics, University of Washington\n",
    "# Homework 1\n",
    "\n",
    "## Problem 1\n",
    "\n",
    "1. Write a Python function named `monty_play` that simulates the Monty Hall Problem. Play $N=10000$ games and print the fraction of wins if the player keeps their initial selection vs. if they choose to switch.\n",
    "\n",
    "2. Extend the function to work with any number of doors (not just 3)."
   ]
  },
  {
   "cell_type": "markdown",
   "metadata": {},
   "source": [
    "# Solutions"
   ]
  },
  {
   "cell_type": "markdown",
   "metadata": {
    "tags": []
   },
   "source": [
    "### Some useful definitions and functions"
   ]
  },
  {
   "cell_type": "code",
   "execution_count": 2,
   "metadata": {},
   "outputs": [],
   "source": [
    "import numpy as np\n",
    "import numpy.random as rnd\n",
    "import random"
   ]
  },
  {
   "cell_type": "code",
   "execution_count": 3,
   "metadata": {},
   "outputs": [
    {
     "name": "stdout",
     "output_type": "stream",
     "text": [
      "[ 1.  2.  3.  4.  5.  6.  7.  8.  9. 10.]\n"
     ]
    }
   ],
   "source": [
    "print(np.linspace(1,10,10))"
   ]
  },
  {
   "cell_type": "code",
   "execution_count": 4,
   "metadata": {},
   "outputs": [],
   "source": [
    "def createList(r1, r2):\n",
    "    return [item for item in range(r1, r2+1)]"
   ]
  },
  {
   "cell_type": "code",
   "execution_count": 5,
   "metadata": {},
   "outputs": [],
   "source": [
    "\n",
    "list_= createList(1, 3)"
   ]
  },
  {
   "cell_type": "markdown",
   "metadata": {},
   "source": [
    "## Problem 1"
   ]
  },
  {
   "cell_type": "code",
   "execution_count": 6,
   "metadata": {},
   "outputs": [],
   "source": [
    "\n",
    "\n",
    "def monty_play(should_switch=False,  ndoor=3):\n",
    "    list_of_doors=  createList(1, ndoor)\n",
    "\n",
    "    remaining_doors= list_of_doors\n",
    "    door_picked  = random.randint(1, ndoor)\n",
    "    car_door = random.randint(1,ndoor)\n",
    " \n",
    "    \n",
    "    if should_switch ==False and car_door== door_picked:\n",
    "        return True\n",
    "    \n",
    "    if should_switch ==True and car_door != door_picked:\n",
    "        return True\n",
    "    \n",
    "    return False\n",
    "            \n",
    "    \n"
   ]
  },
  {
   "cell_type": "code",
   "execution_count": 7,
   "metadata": {},
   "outputs": [
    {
     "data": {
      "text/plain": [
       "False"
      ]
     },
     "execution_count": 7,
     "metadata": {},
     "output_type": "execute_result"
    }
   ],
   "source": [
    "monty_play( ndoor=5)"
   ]
  },
  {
   "cell_type": "code",
   "execution_count": 8,
   "metadata": {},
   "outputs": [
    {
     "name": "stdout",
     "output_type": "stream",
     "text": [
      "Fraction of wins without switching: 0.3281\n",
      "Fraction of wins with switching:    0.6654\n"
     ]
    }
   ],
   "source": [
    "Ngames = 10000\n",
    "\n",
    "noSwitchWinsFraction = sum(monty_play(should_switch=False) for _ in range(Ngames)) / Ngames\n",
    "switchWinsFraction   = sum(monty_play(should_switch=True)  for _ in range(Ngames)) / Ngames\n",
    "\n",
    "print(f\"Fraction of wins without switching: {noSwitchWinsFraction}\")\n",
    "print(f\"Fraction of wins with switching:    {switchWinsFraction}\")"
   ]
  },
  {
   "cell_type": "code",
   "execution_count": 9,
   "metadata": {},
   "outputs": [
    {
     "name": "stdout",
     "output_type": "stream",
     "text": [
      "Fraction of wins without switching: 0.3408\n",
      "Fraction of wins with switching:    0.6652\n"
     ]
    }
   ],
   "source": [
    "Ngames = 10000\n",
    "\n",
    "noSwitchWinsFraction = sum(monty_play(should_switch=False) for _ in range(Ngames)) / Ngames\n",
    "switchWinsFraction   = sum(monty_play(should_switch=True)  for _ in range(Ngames)) / Ngames\n",
    "\n",
    "print(f\"Fraction of wins without switching: {noSwitchWinsFraction}\")\n",
    "print(f\"Fraction of wins with switching:    {switchWinsFraction}\")"
   ]
  },
  {
   "cell_type": "code",
   "execution_count": 10,
   "metadata": {},
   "outputs": [
    {
     "name": "stdout",
     "output_type": "stream",
     "text": [
      "Fraction of wins without switching: 0.2002\n",
      "Fraction of wins with switching:    0.7963\n"
     ]
    }
   ],
   "source": [
    "Ngames = 10000\n",
    "\n",
    "noSwitchWinsFraction = sum(monty_play(should_switch=False, ndoor=5) for _ in range(Ngames)) / Ngames\n",
    "switchWinsFraction   = sum(monty_play(should_switch=True, ndoor=5)  for _ in range(Ngames)) / Ngames\n",
    "\n",
    "print(f\"Fraction of wins without switching: {noSwitchWinsFraction}\")\n",
    "print(f\"Fraction of wins with switching:    {switchWinsFraction}\")"
   ]
  },
  {
   "cell_type": "code",
   "execution_count": null,
   "metadata": {},
   "outputs": [],
   "source": []
  }
 ],
 "metadata": {
  "kernelspec": {
   "display_name": "Python 3 (ipykernel)",
   "language": "python",
   "name": "python3"
  },
  "language_info": {
   "codemirror_mode": {
    "name": "ipython",
    "version": 3
   },
   "file_extension": ".py",
   "mimetype": "text/x-python",
   "name": "python",
   "nbconvert_exporter": "python",
   "pygments_lexer": "ipython3",
   "version": "3.9.10"
  }
 },
 "nbformat": 4,
 "nbformat_minor": 4
}
